{
 "cells": [
  {
   "cell_type": "code",
   "execution_count": 5,
   "metadata": {},
   "outputs": [],
   "source": [
    "import color"
   ]
  },
  {
   "cell_type": "code",
   "execution_count": null,
   "metadata": {},
   "outputs": [],
   "source": [
    "def simplify_color_palette(color_lists):\n",
    "    num_colors = len(color_lists[0])\n",
    "    simplified_palette = []\n",
    "\n",
    "    for i in range(num_colors):\n",
    "        target_color = color_lists[0][i][0]  # First color in the first list\n",
    "        min_distance = float('inf')\n",
    "        closest_color = None\n",
    "\n",
    "        for color_list in color_lists:\n",
    "            current_color = color_list[i][0]  # Current color in the list\n",
    "\n",
    "            # Calculate the Euclidean distance between target_color and current_color\n",
    "            distance = sum((c1 - c2) ** 2 for c1, c2 in zip(target_color, current_color))\n",
    "\n",
    "            if distance < min_distance:\n",
    "                min_distance = distance\n",
    "                closest_color = current_color\n",
    "\n",
    "        simplified_palette.append(closest_color)\n",
    "\n",
    "    return simplified_palette"
   ]
  },
  {
   "cell_type": "code",
   "execution_count": 6,
   "metadata": {},
   "outputs": [
    {
     "name": "stdout",
     "output_type": "stream",
     "text": [
      "Image: \n",
      "((98, 20, 0), 1223604)\n",
      "((255, 192, 121), 1158129)\n",
      "((1, 1, 1), 964206)\n",
      "((247, 124, 64), 721440)\n",
      "((140, 90, 81), 110869)\n",
      "((255, 255, 219), 9866)\n",
      "Image: \n",
      "((221, 94, 61), 1703323)\n",
      "((1, 1, 1), 817130)\n",
      "((255, 216, 173), 743442)\n",
      "((87, 9, 9), 682759)\n",
      "((255, 168, 88), 110617)\n",
      "((86, 71, 74), 76162)\n",
      "Image: \n",
      "((109, 77, 56), 444663)\n",
      "((242, 188, 128), 224053)\n",
      "((253, 254, 223), 182915)\n",
      "((83, 113, 141), 133720)\n",
      "((8, 0, 0), 38984)\n",
      "((183, 110, 31), 14965)\n"
     ]
    }
   ],
   "source": [
    "\n",
    "def create_vfx_prefab(prompt, image_list):\n",
    "    image_list = [\"test2.jpg\", \"test3.jpg\", \"test4.jpg\", \"test5.jpg\"]\n",
    "    image_list = [fetch_image(image) for image in image_list]\n",
    "    colors_list = []\n",
    "    for image in image_list:\n",
    "        colors = extract_colors(image)\n",
    "        colors_list.append(colors)\n",
    "    simplified_palette = simplify_color_palette(colors_list)\n",
    "    parent_palette = study_image(\"test1.jpg\")\n",
    "    color_palette = render_color_platte(simplified_palette)\n",
    "    overlay_palette(img, color_palette)\n",
    "    \n",
    "create_vfx_prefab(\"\", \"\")"
   ]
  }
 ],
 "metadata": {
  "kernelspec": {
   "display_name": "base",
   "language": "python",
   "name": "python3"
  },
  "language_info": {
   "codemirror_mode": {
    "name": "ipython",
    "version": 3
   },
   "file_extension": ".py",
   "mimetype": "text/x-python",
   "name": "python",
   "nbconvert_exporter": "python",
   "pygments_lexer": "ipython3",
   "version": "3.9.7"
  },
  "orig_nbformat": 4
 },
 "nbformat": 4,
 "nbformat_minor": 2
}
